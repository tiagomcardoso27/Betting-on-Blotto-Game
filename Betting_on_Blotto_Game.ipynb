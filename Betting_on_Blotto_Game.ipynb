{
 "cells": [
  {
   "cell_type": "code",
   "execution_count": 4,
   "metadata": {},
   "outputs": [],
   "source": [
    "import numpy as np\n",
    "import random\n",
    "\n",
    "def RandoStrat(init , n):\n",
    "    \"\"\"\n",
    "    Creates one entry with init resources and n battlefields.\n",
    "    \n",
    "    This function was taken from Wittman M D. “Solving” the Blotto Game: A Computational Approach. \n",
    "    retrieved from <http://web.mit.edu/wittman/www/Wittman_BlottoPaper.pdf>\n",
    "    \"\"\"\n",
    "    res = init\n",
    "    strat = []\n",
    "    for i in range(n-1):\n",
    "        rand = random.randint(0, res)\n",
    "        strat.append(rand)\n",
    "        res -= rand\n",
    "    strat.append(res)\n",
    "    random. shuffle (strat)\n",
    "    \n",
    "    return strat"
   ]
  },
  {
   "cell_type": "code",
   "execution_count": 193,
   "metadata": {},
   "outputs": [],
   "source": [
    "def BlottoGame(strat1 , strat2):\n",
    "    \"\"\"\n",
    "    Plays one Blotto game among strategy vectors strat1 and strat2 of length n. Returns: score for strat1.\n",
    "    \n",
    "    This function was taken from Wittman M D. “Solving” the Blotto Game: A Computational Approach. \n",
    "    retrieved from <http://web.mit.edu/wittman/www/Wittman_BlottoPaper.pdf>\n",
    "    \"\"\"\n",
    "    p1score = p2score = 0 #initialize scores\n",
    "    assert len ( strat1 ) == len ( strat2 )\n",
    "    n = len ( strat1 )\n",
    "    for i in range(n): #check each field and assign scores\n",
    "        if strat1[i] > strat2[i]:\n",
    "            p1score += (i+1)\n",
    "        if strat1[i] < strat2[i]:\n",
    "            p2score += (i+1)\n",
    "            \n",
    "    return p1score, p2score #return the scores of both strategies"
   ]
  },
  {
   "cell_type": "code",
   "execution_count": 57,
   "metadata": {},
   "outputs": [],
   "source": [
    "def SortScores(stratset):\n",
    "    \"\"\"\n",
    "    Returns a list of tuples of the form (scores , index) for each strategy\n",
    "    in stratset , sorted from best score −> worst score \n",
    "    \n",
    "    This function was taken from Wittman M D. “Solving” the Blotto Game: A Computational Approach. \n",
    "    retrieved from <http://web.mit.edu/wittman/www/Wittman_BlottoPaper.pdf>\n",
    "    \"\"\"\n",
    "    score_tuples = []\n",
    "    for i in range(len(stratset)):\n",
    "        score_tuples.append(( stratset [ i ] , i ))\n",
    "    \n",
    "    #append a tuple of the score and the index of that score\n",
    "    score_tuples = sorted(score_tuples , reverse=True)\n",
    "    #sort the scores from best to worst (keeping indices intact)\n",
    "    return score_tuples"
   ]
  },
  {
   "cell_type": "code",
   "execution_count": 194,
   "metadata": {},
   "outputs": [],
   "source": [
    "def Selection(n_strats, upper_b, init=20, n=10):\n",
    "    strats = []\n",
    "    for k in range(n_strats):\n",
    "        strat = RandoStrat(round(init*(1.-upper_b)),int(n/2)) + RandoStrat(round(init*upper_b),int(n/2))\n",
    "        strats.append(strat)\n",
    "        \n",
    "    return strats\n",
    "\n",
    "\n",
    "def Tournament(strats, handicap=1.):\n",
    "    n_strats = len(strats)\n",
    "    scores = [0] * n_strats\n",
    "    \n",
    "    for i in range(n_strats):\n",
    "        for j in range(i, n_strats):\n",
    "            p1score, p2score = BlottoGame(strats[i], strats[j])\n",
    "            scores[i] += p1score\n",
    "            scores[j] += p2score\n",
    "    \n",
    "    scores=list(np.array(scores)/n_strats)\n",
    "    score_tuples = SortScores(scores)\n",
    "    \n",
    "    return score_tuples, scores\n"
   ]
  },
  {
   "cell_type": "code",
   "execution_count": 195,
   "metadata": {},
   "outputs": [],
   "source": [
    "def playoffs(strategies, tuples, n, handicap=1.):\n",
    "    finalists = []\n",
    "    for i in range(n):\n",
    "        strat = strategies[tuples[i][1]]\n",
    "        finalists.append(strat)\n",
    "        \n",
    "    score_tuples, scores = Tournament(finalists)\n",
    "    return finalists, score_tuples, scores"
   ]
  },
  {
   "cell_type": "code",
   "execution_count": 77,
   "metadata": {},
   "outputs": [],
   "source": [
    "# Upper = 100%\n",
    "\n",
    "strategies = Selection(10000, 1., init=20, n=10)\n",
    "tuples, scores = Tournament(strategies)\n",
    "finalists, final_tuples, final_scores = playoffs(strategies, tuples, 2000)"
   ]
  },
  {
   "cell_type": "code",
   "execution_count": 84,
   "metadata": {},
   "outputs": [
    {
     "name": "stdout",
     "output_type": "stream",
     "text": [
      "25.5442\n",
      "20.868\n",
      "[0, 0, 0, 0, 0, 3, 3, 4, 4, 6]\n"
     ]
    }
   ],
   "source": [
    "print(tuples[0][0])\n",
    "print(final_tuples[0][0])\n",
    "print(finalists[final_tuples[0][1]])"
   ]
  },
  {
   "cell_type": "code",
   "execution_count": 94,
   "metadata": {},
   "outputs": [
    {
     "name": "stdout",
     "output_type": "stream",
     "text": [
      "32.8712\n",
      "26.896\n",
      "[0, 0, 1, 1, 3, 1, 2, 4, 3, 5]\n"
     ]
    }
   ],
   "source": [
    "# Upper =75%\n",
    "\n",
    "strategies75 = Selection(10000, 0.75, init=20, n=10)\n",
    "tuples75, scores75 = Tournament(strategies75)\n",
    "finalists75, final_tuples75, final_scores75 = playoffs(strategies75, tuples75, 2000)\n",
    "print(tuples75[0][0])\n",
    "print(final_tuples75[0][0])\n",
    "print(finalists75[final_tuples75[0][1]])"
   ]
  },
  {
   "cell_type": "code",
   "execution_count": 95,
   "metadata": {},
   "outputs": [
    {
     "name": "stdout",
     "output_type": "stream",
     "text": [
      "32.5958\n",
      "26.6915\n",
      "[0, 1, 1, 4, 4, 0, 1, 2, 3, 4]\n"
     ]
    }
   ],
   "source": [
    "# Upper =50%\n",
    "\n",
    "strategies50 = Selection(10000, 0.5, init=20, n=10)\n",
    "tuples50, scores50 = Tournament(strategies50)\n",
    "finalists50, final_tuples50, final_scores50 = playoffs(strategies50, tuples50, 2000)\n",
    "print(tuples50[0][0])\n",
    "print(final_tuples50[0][0])\n",
    "print(finalists50[final_tuples50[0][1]])"
   ]
  },
  {
   "cell_type": "code",
   "execution_count": 96,
   "metadata": {},
   "outputs": [
    {
     "name": "stdout",
     "output_type": "stream",
     "text": [
      "31.4736\n",
      "23.649\n",
      "[0, 3, 3, 2, 7, 0, 0, 1, 2, 2]\n"
     ]
    }
   ],
   "source": [
    "# Upper =25%\n",
    "\n",
    "strategies25 = Selection(10000, 0.25, init=20, n=10)\n",
    "tuples25, scores25 = Tournament(strategies25)\n",
    "finalists25, final_tuples25, final_scores25 = playoffs(strategies25, tuples25, 2000)\n",
    "print(tuples25[0][0])\n",
    "print(final_tuples25[0][0])\n",
    "print(finalists25[final_tuples25[0][1]])"
   ]
  },
  {
   "cell_type": "code",
   "execution_count": 97,
   "metadata": {},
   "outputs": [
    {
     "name": "stdout",
     "output_type": "stream",
     "text": [
      "9.9865\n",
      "8.2335\n",
      "[0, 2, 4, 7, 7, 0, 0, 0, 0, 0]\n"
     ]
    }
   ],
   "source": [
    "# Upper =0%\n",
    "\n",
    "strategies0 = Selection(10000, 0.0, init=20, n=10)\n",
    "tuples0, scores0 = Tournament(strategies0)\n",
    "finalists0, final_tuples0, final_scores0 = playoffs(strategies0, tuples0, 2000)\n",
    "print(tuples0[0][0])\n",
    "print(final_tuples0[0][0])\n",
    "print(finalists0[final_tuples0[0][1]])"
   ]
  },
  {
   "cell_type": "code",
   "execution_count": 137,
   "metadata": {},
   "outputs": [
    {
     "name": "stdout",
     "output_type": "stream",
     "text": [
      "33.13798620137986\n",
      "27.676\n",
      "[0, 1, 1, 1, 2, 0, 0, 4, 5, 6]\n"
     ]
    }
   ],
   "source": [
    "# Final Round\n",
    "\n",
    "strategiesf = finalists + finalists75 + finalists50 + finalists25 + finalists0\n",
    "strategiesf.append([1,1,1,1,1,1,1,1,1,1])\n",
    "tuplesf, scoresf = Tournament(strategiesf)\n",
    "finalistsf, final_tuplesf, final_scoresf = playoffs(strategiesf, tuplesf, 1000)\n",
    "print(tuplesf[0][0])\n",
    "print(final_tuplesf[0][0])\n",
    "print(finalistsf[final_tuplesf[0][1]])"
   ]
  },
  {
   "cell_type": "code",
   "execution_count": 142,
   "metadata": {},
   "outputs": [
    {
     "name": "stdout",
     "output_type": "stream",
     "text": [
      "[1, 0, 1, 2, 1, 2, 2, 4, 4, 3]\n",
      "33.13798620137986\n"
     ]
    }
   ],
   "source": [
    "# Best among the first 10.000 strategies\n",
    "print(strategiesf[tuplesf[0][1]])\n",
    "print(tuplesf[0][0])"
   ]
  },
  {
   "cell_type": "code",
   "execution_count": 143,
   "metadata": {},
   "outputs": [
    {
     "name": "stdout",
     "output_type": "stream",
     "text": [
      "[0, 1, 1, 1, 2, 0, 0, 4, 5, 6]\n",
      "27.676\n"
     ]
    }
   ],
   "source": [
    "# Best among the first 1.000 strategies\n",
    "print(finalistsf[final_tuplesf[0][1]])\n",
    "print(final_tuplesf[0][0])"
   ]
  },
  {
   "cell_type": "code",
   "execution_count": 226,
   "metadata": {},
   "outputs": [],
   "source": [
    "def Tournament_unequal(strats1, strats2, handicap=1.):\n",
    "    n_strats1 = len(strats1)\n",
    "    n_strats2 = len(strats2)\n",
    "    scores = [0] * n_strats1\n",
    "    \n",
    "    for i in range(n_strats1):\n",
    "        for j in range(n_strats2):\n",
    "            p1score, p2score = BlottoGame(strats1[i], strats2[j])\n",
    "            scores[i] += p1score\n",
    "    \n",
    "    scores=list(np.array(scores)/n_strats2)\n",
    "    score_tuples = SortScores(scores)\n",
    "    \n",
    "    return score_tuples, scores\n",
    "\n",
    "# Este não vai servir\n",
    "def playoffs_unequal(strategies, tuples, n, handicap=1.):\n",
    "    finalists = []\n",
    "    for i in range(n):\n",
    "        strat = strategies[tuples[i][1]]\n",
    "        finalists.append(strat)\n",
    "        \n",
    "    score_tuples, scores = Tournament_unequal(finalists)\n",
    "    return finalists, score_tuples, scores"
   ]
  },
  {
   "cell_type": "code",
   "execution_count": 232,
   "metadata": {},
   "outputs": [
    {
     "name": "stdout",
     "output_type": "stream",
     "text": [
      "23.833\n",
      "[0, 0, 0, 0, 0, 2, 3, 3, 5, 5]\n"
     ]
    }
   ],
   "source": [
    "# 90-piece armies against the best 100-piece group (75%)\n",
    "\n",
    "# 100%\n",
    "strategies_90p = Selection(10000, 1., init=18, n=10)\n",
    "tuples_90p, scores_90p = Tournament_unequal(strategies_90p, finalists75)\n",
    "print(tuples_90p[0][0])\n",
    "print(strategies_90p[tuples_90p[0][1]])"
   ]
  },
  {
   "cell_type": "code",
   "execution_count": 233,
   "metadata": {},
   "outputs": [
    {
     "name": "stdout",
     "output_type": "stream",
     "text": [
      "24.396\n",
      "[0, 1, 0, 2, 2, 2, 0, 3, 3, 5]\n"
     ]
    }
   ],
   "source": [
    "# 75%\n",
    "strategies75_90p = Selection(10000, 0.73, init=18, n=10)\n",
    "tuples75_90p, scores75_90p = Tournament_unequal(strategies75_90p, finalists75)\n",
    "print(tuples75_90p[0][0])\n",
    "print(strategies75_90p[tuples75_90p[0][1]])"
   ]
  },
  {
   "cell_type": "code",
   "execution_count": 234,
   "metadata": {},
   "outputs": [
    {
     "name": "stdout",
     "output_type": "stream",
     "text": [
      "22.475\n",
      "[1, 1, 1, 3, 3, 0, 1, 0, 3, 5]\n"
     ]
    }
   ],
   "source": [
    "# 50%\n",
    "strategies50_90p = Selection(10000, 0.5, init=18, n=10)\n",
    "strategies50_90p.append([1,1,2,2,2,2,2,2,2,2])\n",
    "strategies50_90p.append([0,2,2,2,2,2,2,2,2,2])\n",
    "strategies50_90p.append([1,2,2,2,2,1,2,2,2,2])\n",
    "tuples50_90p, scores50_90p = Tournament_unequal(strategies50_90p, finalists75)\n",
    "print(tuples50_90p[0][0])\n",
    "print(strategies50_90p[tuples50_90p[0][1]])"
   ]
  },
  {
   "cell_type": "code",
   "execution_count": 235,
   "metadata": {},
   "outputs": [
    {
     "name": "stdout",
     "output_type": "stream",
     "text": [
      "19.27\n",
      "[1, 1, 3, 4, 4, 0, 0, 3, 2, 0]\n"
     ]
    }
   ],
   "source": [
    "# 25%\n",
    "strategies25_90p = Selection(10000, 0.27, init=18, n=10)\n",
    "tuples25_90p, scores25_90p = Tournament_unequal(strategies25_90p, finalists75)\n",
    "print(tuples25_90p[0][0])\n",
    "print(strategies25_90p[tuples25_90p[0][1]])"
   ]
  },
  {
   "cell_type": "code",
   "execution_count": 236,
   "metadata": {},
   "outputs": [
    {
     "name": "stdout",
     "output_type": "stream",
     "text": [
      "13.999\n",
      "[1, 3, 3, 5, 6, 0, 0, 0, 0, 0]\n"
     ]
    }
   ],
   "source": [
    "# 0%\n",
    "strategies0_90p = Selection(10000, 0.0, init=18, n=10)\n",
    "tuples0_90p, scores0_90p = Tournament_unequal(strategies0_90p, finalists75)\n",
    "print(tuples0_90p[0][0])\n",
    "print(strategies0_90p[tuples0_90p[0][1]])"
   ]
  },
  {
   "cell_type": "code",
   "execution_count": 237,
   "metadata": {},
   "outputs": [
    {
     "name": "stdout",
     "output_type": "stream",
     "text": [
      "27.6885\n",
      "[0, 0, 0, 0, 0, 4, 4, 4, 5, 5]\n"
     ]
    }
   ],
   "source": [
    "# 110-piece armies against the best 100-piece group (75%)\n",
    "\n",
    "# 100%\n",
    "strategies_110p = Selection(10000, 1., init=22, n=10)\n",
    "tuples_110p, scores_110p = Tournament_unequal(strategies_110p, finalists75)\n",
    "print(tuples_110p[0][0])\n",
    "print(strategies_110p[tuples_110p[0][1]])"
   ]
  },
  {
   "cell_type": "code",
   "execution_count": 238,
   "metadata": {},
   "outputs": [
    {
     "name": "stdout",
     "output_type": "stream",
     "text": [
      "29.1245\n",
      "[0, 0, 1, 2, 3, 2, 4, 3, 4, 3]\n"
     ]
    }
   ],
   "source": [
    "# 75%\n",
    "strategies75_110p = Selection(10000, 0.73, init=22, n=10)\n",
    "tuples75_110p, scores75_110p = Tournament_unequal(strategies75_110p, finalists75)\n",
    "print(tuples75_110p[0][0])\n",
    "print(strategies75_110p[tuples75_110p[0][1]])"
   ]
  },
  {
   "cell_type": "code",
   "execution_count": 239,
   "metadata": {},
   "outputs": [
    {
     "name": "stdout",
     "output_type": "stream",
     "text": [
      "25.702\n",
      "[2, 2, 2, 2, 3, 2, 2, 2, 2, 3]\n"
     ]
    }
   ],
   "source": [
    "# 50%\n",
    "strategies50_110p = Selection(10000, 0.5, init=22, n=10)\n",
    "strategies50_90p.append([2,2,2,2,3,2,2,2,2,3])\n",
    "tuples50_90p, scores50_90p = Tournament_unequal(strategies50_90p, finalists75)\n",
    "print(tuples50_90p[0][0])\n",
    "print(strategies50_90p[tuples50_90p[0][1]])"
   ]
  },
  {
   "cell_type": "code",
   "execution_count": 241,
   "metadata": {},
   "outputs": [
    {
     "name": "stdout",
     "output_type": "stream",
     "text": [
      "21.6635\n",
      "[2, 3, 3, 4, 4, 0, 0, 0, 3, 3]\n"
     ]
    }
   ],
   "source": [
    "# 25%\n",
    "strategies25_110p = Selection(10000, 0.27, init=22, n=10)\n",
    "tuples25_110p, scores25_110p = Tournament_unequal(strategies25_110p, finalists75)\n",
    "print(tuples25_110p[0][0])\n",
    "print(strategies25_110p[tuples25_110p[0][1]])"
   ]
  },
  {
   "cell_type": "code",
   "execution_count": 242,
   "metadata": {},
   "outputs": [
    {
     "name": "stdout",
     "output_type": "stream",
     "text": [
      "14.659\n",
      "[2, 4, 5, 5, 6, 0, 0, 0, 0, 0]\n"
     ]
    }
   ],
   "source": [
    "# 0%\n",
    "strategies0_110p = Selection(10000, 0.0, init=22, n=10)\n",
    "tuples0_110p, scores0_110p = Tournament_unequal(strategies0_110p, finalists75)\n",
    "print(tuples0_110p[0][0])\n",
    "print(strategies0_110p[tuples0_110p[0][1]])"
   ]
  }
 ],
 "metadata": {
  "kernelspec": {
   "display_name": "Python [conda env:py3]",
   "language": "python",
   "name": "conda-env-py3-py"
  },
  "language_info": {
   "codemirror_mode": {
    "name": "ipython",
    "version": 3
   },
   "file_extension": ".py",
   "mimetype": "text/x-python",
   "name": "python",
   "nbconvert_exporter": "python",
   "pygments_lexer": "ipython3",
   "version": "3.5.5"
  }
 },
 "nbformat": 4,
 "nbformat_minor": 2
}
